{
 "cells": [
  {
   "cell_type": "code",
   "execution_count": 1,
   "metadata": {},
   "outputs": [],
   "source": [
    "import torch\n",
    "import math\n",
    "from time import time\n",
    "import torch.distributions as tdis\n",
    "import matplotlib.pyplot as plt\n",
    "from torch import nn\n",
    "from torch import optim\n",
    "from torch.utils.data import TensorDataset, RandomSampler, BatchSampler, DataLoader"
   ]
  },
  {
   "cell_type": "code",
   "execution_count": 2,
   "metadata": {
    "scrolled": false
   },
   "outputs": [
    {
     "name": "stdout",
     "output_type": "stream",
     "text": [
      "dimension = 20 Rho = 0.9\n",
      "Theoretical MI = 16.607312068216512\n"
     ]
    }
   ],
   "source": [
    "dim = 20\n",
    "d     = 0.9\n",
    "\n",
    "cov1  = torch.eye(int(dim / 2))\n",
    "cov2  = cov1 * d\n",
    "covt   = torch.cat([cov1, cov2], 1)\n",
    "covb  = torch.cat([cov2, cov1], 1)\n",
    "cov    = torch.cat([covt, covb], 0)\n",
    "m      = tdis.MultivariateNormal(torch.zeros(dim), cov)\n",
    "\n",
    "b  = m.sample([4000])\n",
    "x  = b[:, :dim//2]\n",
    "y  = b[:, dim//2:]\n",
    "\n",
    "tmi  = -math.log(1 - d**2) * dim / 2\n",
    "\n",
    "print(\"dimension =\",dim, \"Rho =\",d)\n",
    "print(\"Theoretical MI =\", tmi) "
   ]
  }
 ],
 "metadata": {
  "kernelspec": {
   "display_name": "Python 3",
   "language": "python",
   "name": "python3"
  },
  "language_info": {
   "codemirror_mode": {
    "name": "ipython",
    "version": 3
   },
   "file_extension": ".py",
   "mimetype": "text/x-python",
   "name": "python",
   "nbconvert_exporter": "python",
   "pygments_lexer": "ipython3",
   "version": "3.7.3"
  }
 },
 "nbformat": 4,
 "nbformat_minor": 2
}
